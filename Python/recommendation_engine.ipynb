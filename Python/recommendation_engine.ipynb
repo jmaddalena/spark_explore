{
 "cells": [
  {
   "cell_type": "markdown",
   "metadata": {},
   "source": [
    "Content-based filtering - based on features \n",
    "Collaborative filtering - based on user similarity\n",
    "\n",
    "Explicit ratings - stars, thumbs up/down\n",
    "Implicit ratings - passive tracking of behavior, frequency of your actions\n",
    "\n"
   ]
  },
  {
   "cell_type": "markdown",
   "metadata": {},
   "source": [
    "Other uses of ALS (alternating least squares):\n",
    "* Latent feature discovery\n",
    "* Item grouping\n",
    "* Dimensionality reduction\n",
    "* Image compression\n"
   ]
  },
  {
   "cell_type": "markdown",
   "metadata": {},
   "source": [
    "Consider a matrix of ratings by user and movie. ALS will split this matrix to two Factor matrices, with latent features (of number N) that make up the missing dimension. ALS might see that the number of latent features is the number of movie genres. \n",
    "\n",
    "![Latency](latency.png)"
   ]
  }
 ],
 "metadata": {
  "kernelspec": {
   "display_name": "Python 3",
   "language": "python",
   "name": "python3"
  },
  "language_info": {
   "codemirror_mode": {
    "name": "ipython",
    "version": 3
   },
   "file_extension": ".py",
   "mimetype": "text/x-python",
   "name": "python",
   "nbconvert_exporter": "python",
   "pygments_lexer": "ipython3",
   "version": "3.6.4"
  }
 },
 "nbformat": 4,
 "nbformat_minor": 2
}
